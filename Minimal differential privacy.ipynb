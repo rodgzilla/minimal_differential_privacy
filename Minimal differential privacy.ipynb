{
 "cells": [
  {
   "cell_type": "code",
   "execution_count": 1,
   "metadata": {},
   "outputs": [],
   "source": [
    "import random\n",
    "from collections import Counter, defaultdict"
   ]
  },
  {
   "cell_type": "code",
   "execution_count": 2,
   "metadata": {},
   "outputs": [
    {
     "name": "stdout",
     "output_type": "stream",
     "text": [
      "Counter({'Macron': 5998006, 'Le Pen': 4001994})\n",
      "voter 0: Macron\n",
      "voter 1: Macron\n",
      "voter 2: Le Pen\n",
      "voter 3: Macron\n",
      "voter 4: Macron\n",
      "voter 5: Le Pen\n",
      "voter 6: Macron\n",
      "voter 7: Macron\n",
      "voter 8: Le Pen\n",
      "voter 9: Le Pen\n"
     ]
    }
   ],
   "source": [
    "n_voters        = 10000000\n",
    "# probability that the voter answers the poll randomly. \n",
    "proba_random    = .1\n",
    "# proportion of the voters that voted for Macron. It is what we want to find.\n",
    "proba_macron    = 0.6\n",
    "candidates      = ['Le Pen', 'Macron']\n",
    "other_candidate = {\n",
    "    candidates[0] : candidates[1],\n",
    "    candidates[1] : candidates[0]\n",
    "}\n",
    "vote_intention  = {i : candidates[random.random() < proba_macron] for i in range(n_voters)}\n",
    "\n",
    "print(Counter(vote_intention.values()))\n",
    "\n",
    "for i in range(10):\n",
    "    print(f'voter {i}: {vote_intention[i]}')"
   ]
  },
  {
   "cell_type": "code",
   "execution_count": 3,
   "metadata": {},
   "outputs": [],
   "source": [
    "def poll_individual(voter_id):\n",
    "    # The voter says something random with proba_random probability \n",
    "    if random.random() < proba_random:\n",
    "        # When the voter lies he chooses either candidate with 50% probability\n",
    "        return random.choice(candidates)\n",
    "    # Otherwise the voter answers honestly\n",
    "    return vote_intention[voter_id]"
   ]
  },
  {
   "cell_type": "code",
   "execution_count": 4,
   "metadata": {},
   "outputs": [],
   "source": [
    "def poll_everyone():\n",
    "    return (poll_individual(i) for i in range(len(vote_intention)))"
   ]
  },
  {
   "cell_type": "markdown",
   "metadata": {},
   "source": [
    "We want to estimate the probability that the voter voted for Macron `p`. If the voter answers Macron, we have 3 cases:\n",
    "    \n",
    " - He really votes for Macron and says the truth (`p * (1 - proba_random)`) \n",
    " - He really votes for Macron but lies (`p * proba_random * 0.5`)\n",
    " - He votes for Le Pen but lies (`(1 - p) * proba_random * 0.5`)"
   ]
  },
  {
   "cell_type": "code",
   "execution_count": 5,
   "metadata": {},
   "outputs": [],
   "source": [
    "def proba_estimation(poll_result):\n",
    "    d          = defaultdict(float)\n",
    "    vote_power = 1 - proba_random * 0.5\n",
    "    for poll_intention in poll_result:\n",
    "        d[poll_intention]                  += vote_power     # He really voted for this candidate\n",
    "        d[other_candidate[poll_intention]] += 1 - vote_power # He voted for the other one and is lying\n",
    "\n",
    "    return d"
   ]
  },
  {
   "cell_type": "code",
   "execution_count": 6,
   "metadata": {},
   "outputs": [
    {
     "name": "stdout",
     "output_type": "stream",
     "text": [
      "The real proportion of voters for Macron was 0.6, the estimate proportion is 0.5810\n"
     ]
    }
   ],
   "source": [
    "poll_result = poll_everyone()\n",
    "d           = proba_estimation(poll_result)\n",
    "estimate    = d[candidates[1]] / (d[candidates[0]] + d[candidates[1]])\n",
    "print(f'The real proportion of voters for Macron was {proba_macron}, the estimate proportion is {estimate:.4f}')"
   ]
  }
 ],
 "metadata": {
  "kernelspec": {
   "display_name": "Python 3",
   "language": "python",
   "name": "python3"
  },
  "language_info": {
   "codemirror_mode": {
    "name": "ipython",
    "version": 3
   },
   "file_extension": ".py",
   "mimetype": "text/x-python",
   "name": "python",
   "nbconvert_exporter": "python",
   "pygments_lexer": "ipython3",
   "version": "3.6.5"
  }
 },
 "nbformat": 4,
 "nbformat_minor": 2
}
